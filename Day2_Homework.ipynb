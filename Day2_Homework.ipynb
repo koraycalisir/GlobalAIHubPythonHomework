{
 "cells": [
  {
   "cell_type": "code",
   "execution_count": 14,
   "metadata": {
    "scrolled": false
   },
   "outputs": [
    {
     "name": "stdout",
     "output_type": "stream",
     "text": [
      "First Name :koray\n",
      "Last Name :calisir\n",
      "Age :15\n",
      "Date of birth :2005\n",
      "koray\n",
      "calisir\n",
      "15\n",
      "2005\n",
      "You can't go out because it's too dangerous.\n"
     ]
    }
   ],
   "source": [
    "first_name = input(\"First Name :\")\n",
    "last_name = input(\"Last Name :\")\n",
    "age = int(input(\"Age :\"))\n",
    "date_of_birth = input(\"Date of birth :\")\n",
    "\n",
    "list_ = [first_name, last_name, age, date_of_birth]\n",
    "\n",
    "for i in list_:\n",
    "    print(i)\n",
    "\n",
    "if age < 18:\n",
    "    print(\"You can't go out because it's too dangerous.\")\n",
    "else:\n",
    "    print(\"You can go out to the street.\")"
   ]
  },
  {
   "cell_type": "code",
   "execution_count": 12,
   "metadata": {},
   "outputs": [
    {
     "name": "stdout",
     "output_type": "stream",
     "text": [
      "First Name :koray\n",
      "Last Name :calisir\n",
      "Age :21\n",
      "Date of birth :1999\n",
      "koray\n",
      "calisir\n",
      "21\n",
      "1999\n",
      "You can go out to the street.\n"
     ]
    }
   ],
   "source": [
    "values = [input(\"First Name :\"), input(\"Last Name :\"), input(\"Age :\"), input(\"Date of birth :\")]\n",
    "print(\"\".join(i+\"\\n\" for i in values).rstrip(\"\\n\"))\n",
    "print(\"You can't go out because it's too dangerous.\" if int(values[2]) < 18 else \"You can go out to the street.\")"
   ]
  },
  {
   "cell_type": "code",
   "execution_count": null,
   "metadata": {},
   "outputs": [],
   "source": []
  }
 ],
 "metadata": {
  "kernelspec": {
   "display_name": "Python 3",
   "language": "python",
   "name": "python3"
  },
  "language_info": {
   "codemirror_mode": {
    "name": "ipython",
    "version": 3
   },
   "file_extension": ".py",
   "mimetype": "text/x-python",
   "name": "python",
   "nbconvert_exporter": "python",
   "pygments_lexer": "ipython3",
   "version": "3.7.1"
  }
 },
 "nbformat": 4,
 "nbformat_minor": 2
}
