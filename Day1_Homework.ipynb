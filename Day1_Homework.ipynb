{
 "cells": [
  {
   "cell_type": "code",
   "execution_count": 3,
   "metadata": {},
   "outputs": [
    {
     "name": "stdout",
     "output_type": "stream",
     "text": [
      "Car model : audi\n",
      "When the year of production : 1999\n",
      "Engine volume : 1.5\n",
      "Color : black\n",
      "Cost : 10000\n",
      "I will give you a audi model black car. Its engine volum is 1.5 L and It producted in 1999. That will cost you 10000 dolar.\n",
      "Model Type : <class 'str'>\n",
      "Year Type : <class 'str'>\n",
      "Engine Volum Type : <class 'str'>\n",
      "Color Type: <class 'str'>\n",
      "Cost Type: <class 'str'>\n"
     ]
    }
   ],
   "source": [
    "model = input(\"Car model : \")\n",
    "year = input(\"When the year of production : \")\n",
    "engine = input(\"Engine volume : \")\n",
    "color = input(\"Color : \")\n",
    "cost = input(\"Cost : \")\n",
    "\n",
    "print(f\"I will give you a {model} model {color} car. Its engine volum is {engine} L and It producted in {year}. That will cost you {cost} dolar.\" )\n",
    "\n",
    "print(\"Model Type : {}\\nYear Type : {}\\nEngine Volum Type : {}\\nColor Type: {}\\nCost Type: {}\".format(type(model), type(year), type(engine), type(color), type(cost)))"
   ]
  }
 ],
 "metadata": {
  "kernelspec": {
   "display_name": "Python 3",
   "language": "python",
   "name": "python3"
  },
  "language_info": {
   "codemirror_mode": {
    "name": "ipython",
    "version": 3
   },
   "file_extension": ".py",
   "mimetype": "text/x-python",
   "name": "python",
   "nbconvert_exporter": "python",
   "pygments_lexer": "ipython3",
   "version": "3.7.1"
  }
 },
 "nbformat": 4,
 "nbformat_minor": 2
}
