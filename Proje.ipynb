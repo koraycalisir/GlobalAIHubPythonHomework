{
 "cells": [
  {
   "cell_type": "code",
   "execution_count": 12,
   "metadata": {},
   "outputs": [
    {
     "name": "stdout",
     "output_type": "stream",
     "text": [
      "Name : koray\n",
      "Surname : Calisir\n",
      "Welcome Koray Calisir\n",
      "\n",
      "Enter 5 cours..\n",
      "Course 1 : python\n",
      "Course 2 : java\n",
      "Course 3 : oracle\n",
      "Course 4 : c++\n",
      "Course 5 : linux\n",
      "Courses : python, java, oracle, c++, linux\n",
      "Choose courses min 3 max 5 seperating with comma (,) : python,java,c++\n",
      "Your courses : python, java, c++\n",
      "Your results in java\n",
      "Midterm : 68\n",
      "Final : 77\n",
      "Proje : 60\n",
      "Total Point : 70.9\n",
      "You received BB from java\n"
     ]
    }
   ],
   "source": [
    "import random\n",
    "\n",
    "name = \"koray\"\n",
    "surname = \"calisir\"\n",
    "\n",
    "count = 0\n",
    "while count < 3:\n",
    "    name_ = input(\"Name : \")\n",
    "    surname_ = input(\"Surname : \")\n",
    "    \n",
    "    if name == name_.lower() and surname == surname_.lower():\n",
    "        print(\"Welcome {}\\n\".format(name.capitalize()+ \" \" +surname.capitalize()))\n",
    "        print(\"Enter 5 cours..\")\n",
    "        courses = [input(f\"Course {i} : \") for i in range(1,6)]\n",
    "        print(f\"Courses : {courses[0]}, {courses[1]}, {courses[2]}, {courses[3]}, {courses[4]}\")\n",
    "        selection = input(\"Choose courses min 3 max 5 seperating with comma (,) : \").split(\",\")\n",
    "        \n",
    "        if len(selection) >= 3 and len(selection) <= 5:\n",
    "            print(\"Your courses : \" + \"\".join(i+\", \" for i in selection).rstrip(\", \"))\n",
    "            \n",
    "            exams = {\"midterm\":68, \"final\":77, \"proje\":60}\n",
    "        \n",
    "            total = (exams[\"midterm\"]*30/100) + (exams[\"final\"]*50/100) + (exams[\"proje\"]*20/100)\n",
    "            exam = random.choice(selection)\n",
    "            \n",
    "            print(\"Your results in {}\\nMidterm : {}\\nFinal : {}\\nProje : {}\\nTotal Point : {}\".format(exam,exams[\"midterm\"],exams[\"final\"],exams[\"proje\"],total))\n",
    "\n",
    "            if total >= 90:\n",
    "                print(\"You received AA from\",exam)\n",
    "            elif total <90 and total >= 70:\n",
    "                print(\"You received BB from\",exam)\n",
    "            elif total <70 and total >= 50:\n",
    "                print(\"You received CC from\",exam)\n",
    "            elif total <50 and total >= 30:\n",
    "                print(\"You received DD from\",exam)\n",
    "            elif total < 30:\n",
    "                print(\"You received FF from\",exam)\n",
    "                print(\"You failed in this course\")\n",
    "            \n",
    "            break\n",
    "            \n",
    "        else:\n",
    "            print(\"You failed in class\")\n",
    "            \n",
    "            break\n",
    "        \n",
    "    else:\n",
    "        count += 1\n",
    "        print(\"Wrong !!\")\n",
    "if count == 3:\n",
    "    print(\"Please, try again later\")"
   ]
  }
 ],
 "metadata": {
  "kernelspec": {
   "display_name": "Python 3",
   "language": "python",
   "name": "python3"
  },
  "language_info": {
   "codemirror_mode": {
    "name": "ipython",
    "version": 3
   },
   "file_extension": ".py",
   "mimetype": "text/x-python",
   "name": "python",
   "nbconvert_exporter": "python",
   "pygments_lexer": "ipython3",
   "version": "3.7.1"
  }
 },
 "nbformat": 4,
 "nbformat_minor": 2
}
